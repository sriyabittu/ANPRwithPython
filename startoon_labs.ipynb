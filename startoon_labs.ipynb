{
  "cells": [
    {
      "cell_type": "markdown",
      "metadata": {
        "id": "view-in-github",
        "colab_type": "text"
      },
      "source": [
        "<a href=\"https://colab.research.google.com/github/sriyabittu/ANPRwithPython/blob/main/startoon_labs.ipynb\" target=\"_parent\"><img src=\"https://colab.research.google.com/assets/colab-badge.svg\" alt=\"Open In Colab\"/></a>"
      ]
    },
    {
      "cell_type": "code",
      "source": [
        "def can_form_weight(W, weights):\n",
        "    if W == 0:\n",
        "        return True\n",
        "    if len(weights) == 0:\n",
        "        return False\n",
        "\n",
        "    current_weight = weights[0]\n",
        "    remaining_weights = weights[1:]\n",
        "\n",
        "    #check if we can perform weight W using the current weight or not\n",
        "    if current_weight == W:\n",
        "        return True\n",
        "    \n",
        "    return can_form_weight(W - current_weight, remaining_weights) or can_form_weight(W, remaining_weights)\n",
        "\n",
        "W = 15\n",
        "weights = [4, 3, 5, 6, 4]\n",
        "print(can_form_weight(W, weights))  \n",
        "\n",
        "W = 9\n",
        "weights = [4, 1, 3, 7]\n",
        "print(can_form_weight(W, weights))  \n",
        "\n",
        "W = 25\n",
        "weights = [2, 5, 7, 8, 3]\n",
        "print(can_form_weight(W, weights)) \n"
      ],
      "metadata": {
        "colab": {
          "base_uri": "https://localhost:8080/"
        },
        "id": "RQuguVkQCNYO",
        "outputId": "2623aa11-2f19-46c0-89ef-074573544df6"
      },
      "execution_count": null,
      "outputs": [
        {
          "output_type": "stream",
          "name": "stdout",
          "text": [
            "True\n",
            "False\n",
            "True\n"
          ]
        }
      ]
    }
  ],
  "metadata": {
    "colab": {
      "provenance": [],
      "authorship_tag": "ABX9TyO4xO5QwSqG4BEVsaIqVqpD",
      "include_colab_link": true
    },
    "gpuClass": "standard",
    "kernelspec": {
      "display_name": "Python 3",
      "name": "python3"
    },
    "language_info": {
      "name": "python"
    }
  },
  "nbformat": 4,
  "nbformat_minor": 0
}